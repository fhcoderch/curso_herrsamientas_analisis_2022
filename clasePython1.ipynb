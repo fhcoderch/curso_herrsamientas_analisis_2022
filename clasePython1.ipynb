{
  "nbformat": 4,
  "nbformat_minor": 0,
  "metadata": {
    "colab": {
      "name": "Untitled0.ipynb",
      "provenance": [],
      "authorship_tag": "ABX9TyPCj+uvX60dI72Te1jCRRBM",
      "include_colab_link": true
    },
    "kernelspec": {
      "name": "python3",
      "display_name": "Python 3"
    },
    "language_info": {
      "name": "python"
    }
  },
  "cells": [
    {
      "cell_type": "markdown",
      "metadata": {
        "id": "view-in-github",
        "colab_type": "text"
      },
      "source": [
        "<a href=\"https://colab.research.google.com/github/fhcoderch/curso_herrsamientas_analisis_2022/blob/main/clasePython1.ipynb\" target=\"_parent\"><img src=\"https://colab.research.google.com/assets/colab-badge.svg\" alt=\"Open In Colab\"/></a>"
      ]
    },
    {
      "cell_type": "code",
      "execution_count": 11,
      "metadata": {
        "colab": {
          "base_uri": "https://localhost:8080/"
        },
        "id": "AgFRzxeChCh-",
        "outputId": "0b7117ae-a6a8-4a5a-c7ac-1f3f44e69b74"
      },
      "outputs": [
        {
          "output_type": "stream",
          "name": "stdout",
          "text": [
            "<class 'int'>\n",
            "5\n",
            "<class 'str'>\n",
            "bienvenidos a clases\n",
            "<class 'bool'>\n",
            "True\n",
            "4\n",
            "3\n",
            "False\n",
            "False\n"
          ]
        }
      ],
      "source": [
        "#trabajando con numeros\n",
        "numero = 5\n",
        "print (type(numero))\n",
        "print(numero)\n",
        "\n",
        "#trabajando con texto\n",
        "texto = \"bienvenidos a clases\"\n",
        "print (type(texto))\n",
        "print (texto)\n",
        "\n",
        "#trabajando con booleanos\n",
        "# or = 5\n",
        "boolean = True or False\n",
        "print (type(boolean))\n",
        "print (boolean)\n",
        "\n",
        "# calculando el mod\n",
        "modulo = 19 % 5\n",
        "print(modulo)\n",
        "\n",
        "#calculando una división entera\n",
        "division_entera = 19 // 5\n",
        "print(division_entera) \n",
        "\n",
        "# operadores lógicos\n",
        "\n",
        "# mayor igual que\n",
        "mayo_igual_que = 267>=487\n",
        "print(mayo_igual_que)\n",
        "\n",
        "# distinto de\n",
        "distinto_de =22 != 22\n",
        "print (distinto_de)"
      ]
    },
    {
      "cell_type": "code",
      "source": [
        "# condicional if .. else\n",
        "\n",
        "x = 284\n",
        "y = 847\n",
        "\n",
        "if x > y :\n",
        "  print(\"x mayor que y\")\n",
        "elif x == y:\n",
        "  print(\"x es igual y\")\n",
        "else:\n",
        "  print(\"x es menor que y\")"
      ],
      "metadata": {
        "colab": {
          "base_uri": "https://localhost:8080/"
        },
        "id": "ZId-GbCllHAq",
        "outputId": "c14e43a6-7711-49b3-a5e5-2731dfa656f8"
      },
      "execution_count": 18,
      "outputs": [
        {
          "output_type": "stream",
          "name": "stdout",
          "text": [
            "x es menor que y\n"
          ]
        }
      ]
    },
    {
      "cell_type": "code",
      "source": [
        "#listas/array\n",
        "\n",
        "#crando una lista vacia\n",
        "lista_vacia = []\n",
        "\n",
        "#creando una lista de texto\n",
        "print(\"##### lista_texto #####\")\n",
        "lista_texto = [\"leon\", \"cocodrilo\",\"puma\", \"elefante\"]\n",
        "print(len(lista_texto))\n",
        "print(lista_texto)\n",
        "print(lista_texto[0])\n",
        "\n",
        "# crando una lista de números\n",
        "print(\"##### lista_numeros #####\")\n",
        "print(len(lista_numeros))\n",
        "lista_numeros = [2,34,456,232,65]\n",
        "print(lista_numeros)\n",
        "print(lista_numeros[1])\n",
        "\n",
        "#crando lista booleana\n",
        "print(\"##### lista_boolean #####\")\n",
        "print(len(lista_boolean))\n",
        "lista_boolean = (True, True, False, True)\n",
        "print(lista_boolean)\n",
        "print(lista_boolean[3])\n",
        "\n",
        "# lista de listas\n",
        "\n",
        "lista_de_listas =[[1,213,23,213,1],[\"hola\",\"mundo\"]]\n",
        "print (lista_de_listas)\n",
        "\n",
        "#### agregando datos a la lista\n",
        "print(\"##### lista_vacia #######\")\n",
        "lista_vacia.append(\"no me gusta el chocolate\")\n",
        "lista_vacia.append(\"salta que hace frio\")\n",
        "lista_vacia.append(lista_texto)\n",
        "lista_vacia.extend(lista_texto)\n",
        "lista_vacia.insert(4,\"las plantas estan muy verdes\")\n",
        "print(len(lista_vacia))\n",
        "print(lista_vacia)\n"
      ],
      "metadata": {
        "colab": {
          "base_uri": "https://localhost:8080/"
        },
        "id": "bUn73mzRmzem",
        "outputId": "696a3448-ce7c-4f32-c69d-fdcc78c1f088"
      },
      "execution_count": 31,
      "outputs": [
        {
          "output_type": "stream",
          "name": "stdout",
          "text": [
            "##### lista_texto #####\n",
            "4\n",
            "['leon', 'cocodrilo', 'puma', 'elefante']\n",
            "leon\n",
            "##### lista_numeros #####\n",
            "5\n",
            "[2, 34, 456, 232, 65]\n",
            "34\n",
            "##### lista_boolean #####\n",
            "4\n",
            "(True, True, False, True)\n",
            "True\n",
            "[[1, 213, 23, 213, 1], ['hola', 'mundo']]\n",
            "##### lista_vacia #######\n",
            "8\n",
            "['no me gusta el chocolate', 'salta que hace frio', ['leon', 'cocodrilo', 'puma', 'elefante'], 'leon', 'las plantas estan muy verdes', 'cocodrilo', 'puma', 'elefante']\n"
          ]
        }
      ]
    }
  ]
}